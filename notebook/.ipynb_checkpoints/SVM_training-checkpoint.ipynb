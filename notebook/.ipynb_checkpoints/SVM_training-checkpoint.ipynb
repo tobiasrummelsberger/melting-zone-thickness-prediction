{
 "cells": [
  {
   "cell_type": "markdown",
   "metadata": {},
   "source": [
    "# Prediction: Thickness of melting zone"
   ]
  },
  {
   "cell_type": "markdown",
   "metadata": {},
   "source": [
    "### Import of the dataset"
   ]
  },
  {
   "cell_type": "code",
   "execution_count": 23,
   "metadata": {},
   "outputs": [],
   "source": [
    "import pandas as pd\n",
    "import numpy as np\n",
    "\n",
    "data = pd.read_csv('/Users/tobias/PycharmProjects/melting-zone-thickness-prediction/data/welding_data.csv',\n",
    "                  sep=',',\n",
    "                  decimal=',',\n",
    "                  thousands='.')\n",
    "data = data.astype(dtype={'Nennleistung / W': np.float64, 'd_f / mm': np.float64, 'λ_K / W/(m*K)': np.float64,\n",
    "                          'c_p_K / J/(kg*K)': np.float64, 'ρ_K / kg/m^3': np.float64, 'H_s_K / kJ/kg': np.float64,\n",
    "                          'T_im_K / °C': np.float64, 't_M / mm': np.float64, 'λ_M / W/(m*K)': np.float64,\n",
    "                          'c_p_M / J/(kg*K)': np.float64, 'ρ_M / kg/m^3': np.float64})\n",
    "y = 'Schmelzzonendicke / µm'\n",
    "features = ['Fügezeit', 'd_f / mm', 'λ_K / W/(m*K)', 'c_p_K / J/(kg*K)', 'ρ_K / kg/m^3', 'H_s_K / kJ/kg', 'T_im_K / °C', 't_M / mm', 'λ_M / W/(m*K)', 'c_p_M / J/(kg*K)']"
   ]
  },
  {
   "cell_type": "markdown",
   "metadata": {},
   "source": [
    "### Calculation of Realleistung"
   ]
  },
  {
   "cell_type": "code",
   "execution_count": 24,
   "metadata": {},
   "outputs": [],
   "source": [
    "data['Realleistung'] = data['Nennleistung / W']*data['ρ_M / kg/m^3']\n",
    "data.drop(labels=['Nennleistung / W', 'ρ_M / kg/m^3'], inplace=True, axis=1)"
   ]
  },
  {
   "cell_type": "code",
   "execution_count": 25,
   "metadata": {},
   "outputs": [],
   "source": [
    "train_data = data[data['data_type']=='train']\n",
    "validation_data = data[data['data_type']=='validation']"
   ]
  },
  {
   "cell_type": "markdown",
   "metadata": {},
   "source": [
    "### Preprocessing"
   ]
  },
  {
   "cell_type": "code",
   "execution_count": 26,
   "metadata": {},
   "outputs": [],
   "source": [
    "from sklearn.preprocessing import normalize\n",
    "X_train = normalize(train_data[features])\n",
    "y_train = train_data[y]"
   ]
  },
  {
   "cell_type": "markdown",
   "metadata": {},
   "source": [
    "## Linear Regression"
   ]
  },
  {
   "cell_type": "markdown",
   "metadata": {},
   "source": [
    "### Training"
   ]
  },
  {
   "cell_type": "code",
   "execution_count": 32,
   "metadata": {},
   "outputs": [
    {
     "data": {
      "text/plain": [
       "LinearRegression(copy_X=True, fit_intercept=True, n_jobs=None, normalize=False)"
      ]
     },
     "execution_count": 32,
     "metadata": {},
     "output_type": "execute_result"
    }
   ],
   "source": [
    "from sklearn.linear_model import LinearRegression\n",
    "\n",
    "linear_regression_model = LinearRegression()\n",
    "linear_regression_model.fit(X_train, y_train)"
   ]
  },
  {
   "cell_type": "code",
   "execution_count": 37,
   "metadata": {},
   "outputs": [
    {
     "name": "stdout",
     "output_type": "stream",
     "text": [
      "Linear Regression - Mean Absolute Error: 77.13999999985099\n"
     ]
    }
   ],
   "source": [
    "from sklearn.metrics import mean_absolute_error as mae\n",
    "\n",
    "y_pred = linear_regression_model.predict(X_train)\n",
    "print(\"Linear Regression - Mean Absolute Error:\", mae(y_pred=y_pred, y_true=y_train))"
   ]
  },
  {
   "cell_type": "code",
   "execution_count": 38,
   "metadata": {},
   "outputs": [
    {
     "data": {
      "text/plain": [
       "<matplotlib.collections.PathCollection at 0x121a41cf8>"
      ]
     },
     "execution_count": 38,
     "metadata": {},
     "output_type": "execute_result"
    },
    {
     "data": {
      "image/png": "[encoded data removed]",
      "text/plain": [
       "<Figure size 432x288 with 1 Axes>"
      ]
     },
     "metadata": {
      "needs_background": "light"
     },
     "output_type": "display_data"
    }
   ],
   "source": [
    "import matplotlib.pyplot as plt\n",
    "\n",
    "y_pred = linear_regression_model.predict(X_train)\n",
    "plt.scatter(y_pred, y_train)"
   ]
  },
  {
   "cell_type": "markdown",
   "metadata": {},
   "source": [
    "## Support Vector Regression"
   ]
  },
  {
   "cell_type": "code",
   "execution_count": 27,
   "metadata": {},
   "outputs": [],
   "source": [
    "from sklearn.svm import SVR\n",
    "\n",
    "#welding_thickness_predictor = SVR()\n",
    "#welding_thickness_predictor.fit(X_train, y_train)"
   ]
  },
  {
   "cell_type": "markdown",
   "metadata": {},
   "source": [
    "### Grid Search with Cross Validation"
   ]
  },
  {
   "cell_type": "code",
   "execution_count": 28,
   "metadata": {},
   "outputs": [
    {
     "name": "stdout",
     "output_type": "stream",
     "text": [
      "Best score: 171.36371523579558\n",
      "Parameters: SVR(C=2.0, cache_size=200, coef0=0.0, degree=2, epsilon=0.3, gamma='auto',\n",
      "    kernel='linear', max_iter=-1, shrinking=True, tol=0.001, verbose=False)\n"
     ]
    },
    {
     "name": "stderr",
     "output_type": "stream",
     "text": [
      "/Users/tobias/PycharmProjects/melting-zone-thickness-prediction/venv/lib/python3.6/site-packages/sklearn/model_selection/_search.py:813: DeprecationWarning: The default of the `iid` parameter will change from True to False in version 0.22 and will be removed in 0.24. This will change numeric results when test-set sizes are unequal.\n",
      "  DeprecationWarning)\n"
     ]
    }
   ],
   "source": [
    "from sklearn.model_selection import GridSearchCV\n",
    "\n",
    "param_grid = {'kernel': ['rbf', 'linear', 'poly', 'sigmoid'],\n",
    "             'degree': [2, 3, 5],\n",
    "              'coef0': [0.0],\n",
    "             'gamma': ['auto'],\n",
    "             'C': [0.1, 0.5, 1.0, 2.0],\n",
    "             'epsilon': [0.01, 0.05, 0.1, 0.3]}\n",
    "\n",
    "welding_thickness_grid_search_cv = GridSearchCV(estimator=SVR(),\n",
    "                                                scoring='neg_mean_absolute_error',\n",
    "                                                param_grid=param_grid,\n",
    "                                                cv=3,\n",
    "                                                n_jobs=-1)\n",
    "\n",
    "welding_thickness_grid_search_cv_fitted = welding_thickness_grid_search_cv.fit(X_train, y_train)\n",
    "welding_thickness_predictor = welding_thickness_grid_search_cv_fitted.best_estimator_\n",
    "print(\"Best score:\", -welding_thickness_grid_search_cv_fitted.best_score_)\n",
    "print(\"Parameters:\", welding_thickness_predictor)"
   ]
  },
  {
   "cell_type": "code",
   "execution_count": 29,
   "metadata": {},
   "outputs": [
    {
     "data": {
      "text/plain": [
       "<matplotlib.collections.PathCollection at 0x123e4dc88>"
      ]
     },
     "execution_count": 29,
     "metadata": {},
     "output_type": "execute_result"
    },
    {
     "data": {
      "image/png": "[encoded data removed]",
      "text/plain": [
       "<Figure size 432x288 with 1 Axes>"
      ]
     },
     "metadata": {
      "needs_background": "light"
     },
     "output_type": "display_data"
    }
   ],
   "source": [
    "import matplotlib.pyplot as plt\n",
    "\n",
    "y_pred = welding_thickness_predictor.predict(X_train)\n",
    "plt.scatter(y_pred, y_train)"
   ]
  },
  {
   "cell_type": "code",
   "execution_count": null,
   "metadata": {},
   "outputs": [],
   "source": []
  }
 ],
 "metadata": {
  "kernelspec": {
   "display_name": "Python 3",
   "language": "python",
   "name": "python3"
  },
  "language_info": {
   "codemirror_mode": {
    "name": "ipython",
    "version": 3
   },
   "file_extension": ".py",
   "mimetype": "text/x-python",
   "name": "python",
   "nbconvert_exporter": "python",
   "pygments_lexer": "ipython3",
   "version": "3.6.1"
  }
 },
 "nbformat": 4,
 "nbformat_minor": 2
}
